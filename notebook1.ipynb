{
 "cells": [
  {
   "cell_type": "code",
   "execution_count": 5,
   "id": "888a1932",
   "metadata": {},
   "outputs": [
    {
     "name": "stdout",
     "output_type": "stream",
     "text": [
      "MoviePy - Writing audio in audio.wav\n"
     ]
    },
    {
     "name": "stderr",
     "output_type": "stream",
     "text": [
      "                                                                        "
     ]
    },
    {
     "name": "stdout",
     "output_type": "stream",
     "text": [
      "MoviePy - Done.\n"
     ]
    },
    {
     "name": "stderr",
     "output_type": "stream",
     "text": [
      "\r"
     ]
    }
   ],
   "source": [
    "from moviepy import *\n",
    "clip = VideoFileClip(\"British.mp4\")\n",
    "clip.audio.write_audiofile(\"audio.wav\", codec='pcm_s16le')\n"
   ]
  },
  {
   "cell_type": "code",
   "execution_count": 10,
   "id": "df7d1fd5",
   "metadata": {},
   "outputs": [
    {
     "name": "stdout",
     "output_type": "stream",
     "text": [
      "Predicted Accent: American (Confidence: 0.28)\n",
      "All scores: {'British': 0.07347381114959717, 'American': 0.27519655227661133, 'Australian': 0.16817492246627808}\n"
     ]
    }
   ],
   "source": [
    "from speechbrain.pretrained import SpeakerRecognition\n",
    "import os\n",
    "\n",
    "# Load model\n",
    "classifier = SpeakerRecognition.from_hparams(\n",
    "    source=\"speechbrain/spkrec-ecapa-voxceleb\",\n",
    "    savedir=\"tmp/speechbrain\"\n",
    ")\n",
    "\n",
    "# Path to your extracted audio\n",
    "user_audio = \"user_inputs/emily.wav\"\n",
    "\n",
    "# Reference samples\n",
    "accent_refs = {\n",
    "    \"British\": \"ref_accents/british.wav\",\n",
    "    \"American\": \"ref_accents/american.wav\",\n",
    "    \"Australian\": \"ref_accents/australian.wav\"\n",
    "}\n",
    "\n",
    "# Compute scores\n",
    "scores = {}\n",
    "for accent, ref_path in accent_refs.items():\n",
    "    score = classifier.verify_files(user_audio, ref_path)[0].item()\n",
    "    scores[accent] = score\n",
    "\n",
    "# Sort by score\n",
    "predicted = max(scores.items(), key=lambda x: x[1])\n",
    "print(f\"Predicted Accent: {predicted[0]} (Confidence: {predicted[1]:.2f})\")\n",
    "print(\"All scores:\", scores)\n"
   ]
  }
 ],
 "metadata": {
  "kernelspec": {
   "display_name": "assignmentenv",
   "language": "python",
   "name": "python3"
  },
  "language_info": {
   "codemirror_mode": {
    "name": "ipython",
    "version": 3
   },
   "file_extension": ".py",
   "mimetype": "text/x-python",
   "name": "python",
   "nbconvert_exporter": "python",
   "pygments_lexer": "ipython3",
   "version": "3.11.13"
  }
 },
 "nbformat": 4,
 "nbformat_minor": 5
}
